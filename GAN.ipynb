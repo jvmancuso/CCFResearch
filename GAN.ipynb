{
 "cells": [
  {
   "cell_type": "code",
   "execution_count": 1,
   "metadata": {
    "collapsed": false
   },
   "outputs": [
    {
     "name": "stderr",
     "output_type": "stream",
     "text": [
      "Using TensorFlow backend.\n"
     ]
    }
   ],
   "source": [
    "import numpy as np\n",
    "import pandas as pd\n",
    "from keras.layers import Dense, Input, Dropout, Activation\n",
    "from keras.models import Model\n",
    "from keras.optimizers import Adam\n",
    "import matplotlib.pyplot as plt\n",
    "%matplotlib inline\n",
    "from IPython import display\n",
    "import time\n",
    "import tqdm\n",
    "import random\n",
    "from bayes_opt import BayesianOptimization"
   ]
  },
  {
   "cell_type": "markdown",
   "metadata": {},
   "source": [
    "Load and clean the data."
   ]
  },
  {
   "cell_type": "code",
   "execution_count": 29,
   "metadata": {
    "collapsed": false
   },
   "outputs": [],
   "source": [
    "data = pd.read_csv('final_data.csv')\n",
    "# Convert labels\n",
    "data.loc[data.CONT == \"NO\",\"CONT\"] = -1\n",
    "data.loc[data.CONT != -1,\"CONT\"] = 1\n",
    "# Subset columns\n",
    "cols = [\"BUN\",\"CA\",\"CL\",\"CO2\",\"CRET\",\"GLU\",\"K\",\"NA.\",\"CONT\"]\n",
    "data = data[cols]\n",
    "# Banish negativity :)\n",
    "data.loc[data.CA < 0,\"CA\"] = 0\n",
    "# Convert to int.  Could save space with binary, but meh...\n",
    "data.CONT = data.CONT.astype(\"int64\")\n",
    "# Drop NAs\n",
    "data = data.dropna()\n",
    "# To numpy, Batman!\n",
    "data = data.as_matrix()\n",
    "# Normalize features\n",
    "num_features = len(cols)-1\n",
    "means = np.zeros(num_features)\n",
    "stds = np.zeros(num_features)\n",
    "for x in range(data.shape[1]-1):\n",
    "    means[x] = data[:,x].mean()\n",
    "    stds[x] = data[:,x].std()\n",
    "# Split\n",
    "test_samples = int(.2*len(data))\n",
    "np.random.shuffle(data)\n",
    "test = data[:test_samples,:]\n",
    "train = data[test_samples:,:]\n",
    "# Labels\n",
    "train_samples = len(train)\n",
    "labels = np.array([1]*train_samples)"
   ]
  },
  {
   "cell_type": "markdown",
   "metadata": {},
   "source": [
    "Build the generator."
   ]
  },
  {
   "cell_type": "code",
   "execution_count": 30,
   "metadata": {
    "collapsed": false
   },
   "outputs": [],
   "source": [
    "def build_gen(learning_rate=1e-3):\n",
    "    opt = Adam(lr = learning_rate)\n",
    "    input = Input(shape = (9,))\n",
    "    G = Dropout(.2)(input)\n",
    "    G = Dense(64)(G)\n",
    "    G = Activation('relu')(G)\n",
    "    G = Dropout(.2)(G)\n",
    "    G = Dense(32)(G)\n",
    "    G = Activation('relu')(G)\n",
    "    G = Dropout(.2)(G)\n",
    "    sample = Dense(9)(G)\n",
    "    generator = Model(input = input, output = sample)\n",
    "    generator.compile(loss = 'binary_crossentropy', optimizer = opt)\n",
    "    return generator"
   ]
  },
  {
   "cell_type": "markdown",
   "metadata": {},
   "source": [
    "Build the discriminator."
   ]
  },
  {
   "cell_type": "code",
   "execution_count": 31,
   "metadata": {
    "collapsed": false
   },
   "outputs": [],
   "source": [
    "def build_dis(learning_rate = 1e-3):\n",
    "    dinput = Input(shape = (9,))\n",
    "    D = Dropout(.2)(dinput)\n",
    "    D = Dense(64)(D)\n",
    "    D = Activation('relu')(D)\n",
    "    D = Dropout(.2)(D)\n",
    "    D = Dense(32)(D)\n",
    "    D = Activation('relu')(D)\n",
    "    D = Dropout(.2)(D)\n",
    "    pred = Dense(1,activation = 'sigmoid')(D)\n",
    "    discriminator = Model(input = dinput, output = pred)\n",
    "    discriminator.compile(loss = 'binary_crossentropy', optimizer = Adam(lr=learning_rate))\n",
    "    return discriminator"
   ]
  },
  {
   "cell_type": "code",
   "execution_count": 32,
   "metadata": {
    "collapsed": true
   },
   "outputs": [],
   "source": [
    "generator = build_gen()\n",
    "discriminator = build_dis()"
   ]
  },
  {
   "cell_type": "markdown",
   "metadata": {},
   "source": [
    "Freeze discriminator."
   ]
  },
  {
   "cell_type": "code",
   "execution_count": 33,
   "metadata": {
    "collapsed": false
   },
   "outputs": [],
   "source": [
    "def make_trainable(net, val):\n",
    "    net.trainable = val\n",
    "    for l in net.layers:\n",
    "        l.trainable = val"
   ]
  },
  {
   "cell_type": "markdown",
   "metadata": {},
   "source": [
    "Stack models."
   ]
  },
  {
   "cell_type": "code",
   "execution_count": 34,
   "metadata": {
    "collapsed": false
   },
   "outputs": [],
   "source": [
    "def build_gan(generator=generator, discriminator=discriminator, learning_rate=1e-3):\n",
    "    gan_in = Input(shape = (9,))\n",
    "    T = generator(gan_in)\n",
    "    gan_out = discriminator(T)\n",
    "    gan = Model(input = gan_in, output = gan_out)\n",
    "    gan.compile(loss = 'binary_crossentropy', optimizer = Adam(lr=learning_rate))\n",
    "    return gan"
   ]
  },
  {
   "cell_type": "code",
   "execution_count": 35,
   "metadata": {
    "collapsed": true
   },
   "outputs": [],
   "source": [
    "gan = build_gan()"
   ]
  },
  {
   "cell_type": "markdown",
   "metadata": {},
   "source": [
    "Pretrain the discriminator."
   ]
  },
  {
   "cell_type": "code",
   "execution_count": 42,
   "metadata": {
    "collapsed": false
   },
   "outputs": [],
   "source": [
    "def pretrain(generator,discriminator, nb_epoch=10):\n",
    "    # Generate data\n",
    "    ndata = np.random.randn(train_samples, num_features)\n",
    "    p = sum(train[train[:,8] > 0, 8])/len(train)\n",
    "    CONT = np.random.choice([-1,1], train_samples, p = [1-p,p])\n",
    "    fdata = np.concatenate((ndata,CONT[:,None]), axis=1)\n",
    "    gen_data = generator.predict(fdata)\n",
    "    X = np.concatenate((train,gen_data))\n",
    "    y = np.zeros(2*train_samples)\n",
    "    y[:train_samples] = 1\n",
    "    make_trainable(discriminator,True)\n",
    "    discriminator.fit(X,y,nb_epoch=nb_epoch,batch_size=len(X))\n",
    "    y_hat = discriminator.predict(X)\n",
    "    y_hat[y_hat>=.5] = 1\n",
    "    y_hat[y_hat<.5] = 0\n",
    "    print \"Accuracy: {}\".format(1-np.abs(y - y_hat).sum()/float(len(y)))"
   ]
  },
  {
   "cell_type": "markdown",
   "metadata": {},
   "source": [
    "Prepare loss storage for plots."
   ]
  },
  {
   "cell_type": "code",
   "execution_count": 43,
   "metadata": {
    "collapsed": true
   },
   "outputs": [],
   "source": [
    "losses = {'d':[],'g':[]}"
   ]
  },
  {
   "cell_type": "markdown",
   "metadata": {},
   "source": [
    "The main event."
   ]
  },
  {
   "cell_type": "code",
   "execution_count": 44,
   "metadata": {
    "collapsed": false
   },
   "outputs": [],
   "source": [
    "def plot_loss(losses):\n",
    "        display.clear_output(wait=True)\n",
    "        display.display(plt.gcf())\n",
    "        plt.figure(figsize=(10,8))\n",
    "        plt.plot(losses[\"d\"], label='discriminitive loss')\n",
    "        plt.plot(losses[\"g\"], label='generative loss')\n",
    "        plt.legend()\n",
    "        plt.show()\n",
    "        \n",
    "def batch_training(nb_epoch=500,plt_freq=10,batch_size=len(train),\n",
    "                  h_thresh=.8,l_thresh=.45,handicap=4):\n",
    "    for i in tqdm.tqdm(range(nb_epoch)):\n",
    "        # Make generated data\n",
    "        real_batch = train[np.random.randint(0,train.shape[0],size=batch_size),:]\n",
    "        noise = np.random.randn(batch_size, num_features)\n",
    "        CONT = np.random.choice([-1,1], batch_size, p = [1-p,p])\n",
    "        noise_tot = np.concatenate((noise,CONT[:,None]), axis=1)\n",
    "        fake_batch = generator.predict(noise_tot)\n",
    "        \n",
    "        d_loss=None\n",
    "        g_loss=None\n",
    "        # Train discriminator\n",
    "        #if (d_loss and g_loss and g_loss<h_thresh and d_loss>l_thresh) or i==1:\n",
    "        X = np.concatenate((real_batch,fake_batch))\n",
    "        y = np.zeros(2*batch_size)\n",
    "        y[:batch_size]=1\n",
    "        make_trainable(discriminator,True)\n",
    "        d_loss = discriminator.train_on_batch(X,y)\n",
    "        if d_loss:\n",
    "            losses['d'].append(d_loss)\n",
    "        \n",
    "        # Train stack\n",
    "        for i in range(handicap):\n",
    "            noise = np.random.randn(batch_size, num_features)\n",
    "            CONT = np.random.choice([-1,1], batch_size, p = [1-p,p])\n",
    "            noise_tot = np.concatenate((noise,CONT[:,None]), axis=1)\n",
    "            y = np.zeros(batch_size)\n",
    "            make_trainable(discriminator,False)\n",
    "            g_loss = gan.train_on_batch(noise_tot,y)\n",
    "        if d_loss:\n",
    "            losses['g'].append(g_loss)\n",
    "        \n",
    "        if i % plt_freq==plt_freq-1:\n",
    "            plot_loss(losses)\n",
    "            \n",
    "def measure(generator,discriminator):\n",
    "    ndata = np.random.randn(test_samples, num_features)\n",
    "    p = sum(test[test[:,8] > 0, 8])/len(test)\n",
    "    CONT = np.random.choice([-1,1], test_samples, p = [1-p,p])\n",
    "    fdata = np.concatenate((ndata,CONT[:,None]), axis=1)\n",
    "    samples = generator.predict(fdata)\n",
    "    return np.square(np.add(discriminator.predict(np.concatenate((test,samples))),-.5)).mean()"
   ]
  },
  {
   "cell_type": "code",
   "execution_count": 45,
   "metadata": {
    "collapsed": false
   },
   "outputs": [],
   "source": [
    "ndata = np.random.randn(train_samples, num_features)\n",
    "p = sum(train[train[:,8] > 0, 8])/len(train)\n",
    "CONT = np.random.choice([-1,1], train_samples, p = [1-p,p])\n",
    "fdata = np.concatenate((ndata,CONT[:,None]), axis=1)\n",
    "gen_data = generator.predict(fdata)"
   ]
  },
  {
   "cell_type": "code",
   "execution_count": 46,
   "metadata": {
    "collapsed": false
   },
   "outputs": [
    {
     "name": "stdout",
     "output_type": "stream",
     "text": [
      "Epoch 1/50\n",
      "22312/22312 [==============================] - 0s - loss: 3.4153\n",
      "Epoch 2/50\n",
      "22312/22312 [==============================] - 0s - loss: 2.8563\n",
      "Epoch 3/50\n",
      "22312/22312 [==============================] - 0s - loss: 2.2226\n",
      "Epoch 4/50\n",
      "22312/22312 [==============================] - 0s - loss: 1.6996\n",
      "Epoch 5/50\n",
      "22312/22312 [==============================] - 0s - loss: 1.3702\n",
      "Epoch 6/50\n",
      "22312/22312 [==============================] - 0s - loss: 1.0212\n",
      "Epoch 7/50\n",
      "22312/22312 [==============================] - 0s - loss: 0.8525\n",
      "Epoch 8/50\n",
      "22312/22312 [==============================] - 0s - loss: 0.6943\n",
      "Epoch 9/50\n",
      "22312/22312 [==============================] - 0s - loss: 0.5724\n",
      "Epoch 10/50\n",
      "22312/22312 [==============================] - 0s - loss: 0.4958\n",
      "Epoch 11/50\n",
      "22312/22312 [==============================] - 0s - loss: 0.4554\n",
      "Epoch 12/50\n",
      "22312/22312 [==============================] - 0s - loss: 0.4215\n",
      "Epoch 13/50\n",
      "22312/22312 [==============================] - 0s - loss: 0.4082\n",
      "Epoch 14/50\n",
      "22312/22312 [==============================] - 0s - loss: 0.3878\n",
      "Epoch 15/50\n",
      "22312/22312 [==============================] - 0s - loss: 0.3754\n",
      "Epoch 16/50\n",
      "22312/22312 [==============================] - 0s - loss: 0.3597\n",
      "Epoch 17/50\n",
      "22312/22312 [==============================] - 0s - loss: 0.3659\n",
      "Epoch 18/50\n",
      "22312/22312 [==============================] - 0s - loss: 0.3546\n",
      "Epoch 19/50\n",
      "22312/22312 [==============================] - 0s - loss: 0.3477\n",
      "Epoch 20/50\n",
      "22312/22312 [==============================] - 0s - loss: 0.3447\n",
      "Epoch 21/50\n",
      "22312/22312 [==============================] - 0s - loss: 0.3368\n",
      "Epoch 22/50\n",
      "22312/22312 [==============================] - 0s - loss: 0.3331\n",
      "Epoch 23/50\n",
      "22312/22312 [==============================] - 0s - loss: 0.3335\n",
      "Epoch 24/50\n",
      "22312/22312 [==============================] - 0s - loss: 0.3306\n",
      "Epoch 25/50\n",
      "22312/22312 [==============================] - 0s - loss: 0.3256\n",
      "Epoch 26/50\n",
      "22312/22312 [==============================] - 0s - loss: 0.3255\n",
      "Epoch 27/50\n",
      "22312/22312 [==============================] - 0s - loss: 0.3190\n",
      "Epoch 28/50\n",
      "22312/22312 [==============================] - 0s - loss: 0.3185\n",
      "Epoch 29/50\n",
      "22312/22312 [==============================] - 0s - loss: 0.3156\n",
      "Epoch 30/50\n",
      "22312/22312 [==============================] - 0s - loss: 0.3114\n",
      "Epoch 31/50\n",
      "22312/22312 [==============================] - 0s - loss: 0.3091\n",
      "Epoch 32/50\n",
      "22312/22312 [==============================] - 0s - loss: 0.3074\n",
      "Epoch 33/50\n",
      "22312/22312 [==============================] - 0s - loss: 0.3067\n",
      "Epoch 34/50\n",
      "22312/22312 [==============================] - 0s - loss: 0.2992\n",
      "Epoch 35/50\n",
      "22312/22312 [==============================] - 0s - loss: 0.2948\n",
      "Epoch 36/50\n",
      "22312/22312 [==============================] - 0s - loss: 0.2924\n",
      "Epoch 37/50\n",
      "22312/22312 [==============================] - 0s - loss: 0.2903\n",
      "Epoch 38/50\n",
      "22312/22312 [==============================] - 0s - loss: 0.2874\n",
      "Epoch 39/50\n",
      "22312/22312 [==============================] - 0s - loss: 0.2839\n",
      "Epoch 40/50\n",
      "22312/22312 [==============================] - 0s - loss: 0.2818\n",
      "Epoch 41/50\n",
      "22312/22312 [==============================] - 0s - loss: 0.2775\n",
      "Epoch 42/50\n",
      "22312/22312 [==============================] - 0s - loss: 0.2768\n",
      "Epoch 43/50\n",
      "22312/22312 [==============================] - 0s - loss: 0.2720\n",
      "Epoch 44/50\n",
      "22312/22312 [==============================] - 0s - loss: 0.2690\n",
      "Epoch 45/50\n",
      "22312/22312 [==============================] - 0s - loss: 0.2650\n",
      "Epoch 46/50\n",
      "22312/22312 [==============================] - 0s - loss: 0.2628\n",
      "Epoch 47/50\n",
      "22312/22312 [==============================] - 0s - loss: 0.2587\n",
      "Epoch 48/50\n",
      "22312/22312 [==============================] - 0s - loss: 0.2545\n",
      "Epoch 49/50\n",
      "22312/22312 [==============================] - 0s - loss: 0.2516\n",
      "Epoch 50/50\n",
      "22312/22312 [==============================] - 0s - loss: 0.2474\n"
     ]
    },
    {
     "name": "stderr",
     "output_type": "stream",
     "text": [
      "\n",
      "\r",
      "  0%|          | 0/250 [00:00<?, ?it/s]"
     ]
    },
    {
     "name": "stdout",
     "output_type": "stream",
     "text": [
      "Accuracy: -11155.0\n"
     ]
    },
    {
     "name": "stderr",
     "output_type": "stream",
     "text": [
      "\u001b[A\n",
      "  0%|          | 1/250 [00:00<01:28,  2.82it/s]\u001b[A\n",
      "  1%|          | 2/250 [00:00<01:27,  2.84it/s]\u001b[A\n",
      "  1%|          | 3/250 [00:01<01:26,  2.86it/s]\u001b[A\n",
      "  2%|▏         | 4/250 [00:01<01:25,  2.87it/s]\u001b[A\n",
      "  2%|▏         | 5/250 [00:01<01:25,  2.88it/s]\u001b[A\n",
      "  2%|▏         | 6/250 [00:02<01:24,  2.90it/s]\u001b[A\n",
      "  3%|▎         | 7/250 [00:02<01:23,  2.89it/s]\u001b[A\n",
      "  3%|▎         | 8/250 [00:02<01:25,  2.82it/s]\u001b[A\n",
      "  4%|▎         | 9/250 [00:03<01:27,  2.76it/s]\u001b[A\n",
      "  4%|▍         | 10/250 [00:03<01:27,  2.75it/s]\u001b[A\n",
      "  4%|▍         | 11/250 [00:03<01:28,  2.71it/s]\u001b[A\n",
      "  5%|▍         | 12/250 [00:04<01:28,  2.68it/s]\u001b[A\n",
      "  5%|▌         | 13/250 [00:04<01:28,  2.69it/s]\u001b[A\n",
      "  6%|▌         | 14/250 [00:05<01:30,  2.60it/s]\u001b[A\n",
      "  6%|▌         | 15/250 [00:05<01:30,  2.58it/s]\u001b[A\n",
      "  6%|▋         | 16/250 [00:05<01:31,  2.56it/s]\u001b[A\n",
      "\n",
      "  7%|▋         | 17/250 [00:06<01:29,  2.61it/s]\u001b[AException in thread Thread-16:\n",
      "Traceback (most recent call last):\n",
      "  File \"/Users/jasonmancuso/anaconda/lib/python2.7/threading.py\", line 801, in __bootstrap_inner\n",
      "    self.run()\n",
      "  File \"/Users/jasonmancuso/anaconda/lib/python2.7/site-packages/tqdm/_tqdm.py\", line 102, in run\n",
      "    for instance in self.tqdm_cls._instances:\n",
      "  File \"/Users/jasonmancuso/anaconda/lib/python2.7/_weakrefset.py\", line 60, in __iter__\n",
      "    for itemref in self.data:\n",
      "RuntimeError: Set changed size during iteration\n",
      "\n",
      "\n",
      "  7%|▋         | 18/250 [00:06<01:27,  2.65it/s]\u001b[A\n",
      "  8%|▊         | 19/250 [00:06<01:26,  2.67it/s]\u001b[A\n",
      "  8%|▊         | 20/250 [00:07<01:24,  2.72it/s]\u001b[A\n",
      "  8%|▊         | 21/250 [00:07<01:23,  2.76it/s]\u001b[A\n",
      "  9%|▉         | 22/250 [00:08<01:21,  2.80it/s]\u001b[A\n",
      "  9%|▉         | 23/250 [00:08<01:19,  2.85it/s]\u001b[A\n",
      " 10%|▉         | 24/250 [00:08<01:19,  2.85it/s]\u001b[A\n",
      " 10%|█         | 25/250 [00:09<01:19,  2.84it/s]\u001b[A\n",
      " 10%|█         | 26/250 [00:09<01:18,  2.87it/s]\u001b[A\n",
      " 11%|█         | 27/250 [00:09<01:18,  2.85it/s]\u001b[A\n",
      " 11%|█         | 28/250 [00:10<01:17,  2.86it/s]\u001b[A\n",
      " 12%|█▏        | 29/250 [00:10<01:17,  2.86it/s]\u001b[A\n",
      " 12%|█▏        | 30/250 [00:10<01:16,  2.88it/s]\u001b[A\n",
      " 12%|█▏        | 31/250 [00:11<01:16,  2.88it/s]\u001b[A\n",
      " 13%|█▎        | 32/250 [00:11<01:18,  2.77it/s]\u001b[A\n",
      " 13%|█▎        | 33/250 [00:11<01:21,  2.67it/s]\u001b[A\n",
      " 14%|█▎        | 34/250 [00:12<01:19,  2.73it/s]\u001b[A\n",
      " 14%|█▍        | 35/250 [00:12<01:21,  2.65it/s]\u001b[A\n",
      " 14%|█▍        | 36/250 [00:13<01:20,  2.67it/s]\u001b[A\n",
      " 15%|█▍        | 37/250 [00:13<01:21,  2.60it/s]\u001b[A\n",
      " 15%|█▌        | 38/250 [00:13<01:24,  2.51it/s]\u001b[A\n",
      " 16%|█▌        | 39/250 [00:14<01:23,  2.52it/s]\u001b[A\n",
      " 16%|█▌        | 40/250 [00:14<01:20,  2.61it/s]\u001b[A\n",
      " 16%|█▋        | 41/250 [00:15<01:18,  2.67it/s]\u001b[A\n",
      " 17%|█▋        | 42/250 [00:15<01:17,  2.69it/s]\u001b[A\n",
      " 17%|█▋        | 43/250 [00:15<01:15,  2.73it/s]\u001b[A\n",
      " 18%|█▊        | 44/250 [00:16<01:14,  2.77it/s]\u001b[A\n",
      " 18%|█▊        | 45/250 [00:16<01:13,  2.80it/s]\u001b[A\n",
      " 18%|█▊        | 46/250 [00:16<01:12,  2.83it/s]\u001b[A\n",
      " 19%|█▉        | 47/250 [00:17<01:11,  2.83it/s]\u001b[A\n",
      " 19%|█▉        | 48/250 [00:17<01:10,  2.85it/s]\u001b[A\n",
      " 20%|█▉        | 49/250 [00:17<01:10,  2.85it/s]\u001b[A\n",
      " 20%|██        | 50/250 [00:18<01:10,  2.85it/s]\u001b[A\n",
      " 20%|██        | 51/250 [00:18<01:09,  2.86it/s]\u001b[A\n",
      " 21%|██        | 52/250 [00:18<01:09,  2.85it/s]\u001b[A\n",
      " 21%|██        | 53/250 [00:19<01:09,  2.84it/s]\u001b[A\n",
      " 22%|██▏       | 54/250 [00:19<01:08,  2.85it/s]\u001b[A\n",
      " 22%|██▏       | 55/250 [00:19<01:08,  2.85it/s]\u001b[A\n",
      " 22%|██▏       | 56/250 [00:20<01:07,  2.86it/s]\u001b[A\n",
      " 23%|██▎       | 57/250 [00:20<01:07,  2.87it/s]\u001b[A\n",
      " 23%|██▎       | 58/250 [00:20<01:06,  2.88it/s]\u001b[A\n",
      " 24%|██▎       | 59/250 [00:21<01:06,  2.87it/s]\u001b[A\n",
      " 24%|██▍       | 60/250 [00:21<01:06,  2.87it/s]\u001b[A\n",
      " 24%|██▍       | 61/250 [00:22<01:05,  2.87it/s]\u001b[A\n",
      " 25%|██▍       | 62/250 [00:22<01:05,  2.88it/s]\u001b[A\n",
      " 25%|██▌       | 63/250 [00:22<01:04,  2.88it/s]\u001b[A\n",
      " 26%|██▌       | 64/250 [00:23<01:04,  2.89it/s]\u001b[A\n",
      " 26%|██▌       | 65/250 [00:23<01:04,  2.89it/s]\u001b[A\n",
      " 26%|██▋       | 66/250 [00:23<01:03,  2.89it/s]\u001b[A\n",
      " 27%|██▋       | 67/250 [00:24<01:03,  2.88it/s]\u001b[A\n",
      " 27%|██▋       | 68/250 [00:24<01:03,  2.88it/s]\u001b[A\n",
      " 28%|██▊       | 69/250 [00:24<01:03,  2.86it/s]\u001b[A\n",
      " 28%|██▊       | 70/250 [00:25<01:02,  2.87it/s]\u001b[A\n",
      " 28%|██▊       | 71/250 [00:25<01:01,  2.89it/s]\u001b[A\n",
      " 29%|██▉       | 72/250 [00:25<01:01,  2.89it/s]\u001b[A\n",
      " 29%|██▉       | 73/250 [00:26<01:01,  2.88it/s]\u001b[A\n",
      " 30%|██▉       | 74/250 [00:26<01:00,  2.89it/s]\u001b[A\n",
      " 30%|███       | 75/250 [00:26<01:00,  2.89it/s]\u001b[A\n",
      " 30%|███       | 76/250 [00:27<01:00,  2.88it/s]\u001b[A\n",
      " 31%|███       | 77/250 [00:27<00:59,  2.90it/s]\u001b[A\n",
      " 31%|███       | 78/250 [00:27<00:59,  2.87it/s]\u001b[A\n",
      " 32%|███▏      | 79/250 [00:28<00:59,  2.88it/s]\u001b[A\n",
      " 32%|███▏      | 80/250 [00:28<00:58,  2.90it/s]\u001b[A\n",
      " 32%|███▏      | 81/250 [00:28<00:59,  2.86it/s]\u001b[A\n",
      " 33%|███▎      | 82/250 [00:29<00:58,  2.87it/s]\u001b[A\n",
      " 33%|███▎      | 83/250 [00:29<00:58,  2.86it/s]\u001b[A\n",
      " 34%|███▎      | 84/250 [00:29<00:57,  2.87it/s]\u001b[A\n",
      " 34%|███▍      | 85/250 [00:30<00:57,  2.87it/s]\u001b[A\n",
      " 34%|███▍      | 86/250 [00:30<00:57,  2.86it/s]\u001b[A\n",
      " 35%|███▍      | 87/250 [00:31<00:56,  2.86it/s]\u001b[A\n",
      " 35%|███▌      | 88/250 [00:31<00:56,  2.87it/s]\u001b[A\n",
      " 36%|███▌      | 89/250 [00:31<00:55,  2.88it/s]\u001b[A\n",
      " 36%|███▌      | 90/250 [00:32<00:55,  2.89it/s]\u001b[A\n",
      " 36%|███▋      | 91/250 [00:32<00:55,  2.88it/s]\u001b[A\n",
      " 37%|███▋      | 92/250 [00:32<00:54,  2.88it/s]\u001b[A\n",
      " 37%|███▋      | 93/250 [00:33<00:54,  2.88it/s]\u001b[A\n",
      " 38%|███▊      | 94/250 [00:33<00:56,  2.78it/s]\u001b[A\n",
      " 38%|███▊      | 95/250 [00:33<00:58,  2.67it/s]\u001b[A\n",
      " 38%|███▊      | 96/250 [00:34<00:57,  2.68it/s]\u001b[A\n",
      " 39%|███▉      | 97/250 [00:34<00:56,  2.69it/s]\u001b[A\n",
      " 39%|███▉      | 98/250 [00:35<00:55,  2.71it/s]\u001b[A\n",
      " 40%|███▉      | 99/250 [00:35<00:55,  2.72it/s]\u001b[A\n",
      " 40%|████      | 100/250 [00:35<00:54,  2.73it/s]\u001b[A\n",
      " 40%|████      | 101/250 [00:36<00:55,  2.68it/s]\u001b[A\n",
      " 41%|████      | 102/250 [00:36<00:54,  2.74it/s]\u001b[A\n",
      " 41%|████      | 103/250 [00:36<00:53,  2.75it/s]\u001b[A\n",
      " 42%|████▏     | 104/250 [00:37<00:52,  2.79it/s]\u001b[A\n",
      " 42%|████▏     | 105/250 [00:37<00:51,  2.83it/s]\u001b[A\n",
      " 42%|████▏     | 106/250 [00:37<00:52,  2.77it/s]\u001b[A\n",
      " 43%|████▎     | 107/250 [00:38<00:51,  2.76it/s]\u001b[A\n",
      " 43%|████▎     | 108/250 [00:38<00:50,  2.80it/s]\u001b[A\n",
      " 44%|████▎     | 109/250 [00:39<00:52,  2.70it/s]\u001b[A\n",
      " 44%|████▍     | 110/250 [00:39<00:50,  2.75it/s]\u001b[A\n",
      " 44%|████▍     | 111/250 [00:39<00:50,  2.75it/s]\u001b[A\n",
      " 45%|████▍     | 112/250 [00:40<00:49,  2.77it/s]\u001b[A\n",
      " 45%|████▌     | 113/250 [00:40<00:50,  2.69it/s]\u001b[A\n",
      " 46%|████▌     | 114/250 [00:40<00:50,  2.69it/s]\u001b[A\n",
      " 46%|████▌     | 115/250 [00:41<00:49,  2.73it/s]\u001b[A\n",
      " 46%|████▋     | 116/250 [00:41<00:48,  2.75it/s]\u001b[A\n",
      " 47%|████▋     | 117/250 [00:41<00:47,  2.78it/s]\u001b[A\n",
      " 47%|████▋     | 118/250 [00:42<00:46,  2.82it/s]\u001b[A\n",
      " 48%|████▊     | 119/250 [00:42<00:46,  2.83it/s]\u001b[A\n",
      " 48%|████▊     | 120/250 [00:42<00:45,  2.83it/s]\u001b[A\n",
      " 48%|████▊     | 121/250 [00:43<00:45,  2.84it/s]\u001b[A\n",
      " 49%|████▉     | 122/250 [00:43<00:45,  2.84it/s]\u001b[A\n",
      " 49%|████▉     | 123/250 [00:44<00:44,  2.83it/s]\u001b[A\n",
      " 50%|████▉     | 124/250 [00:44<00:44,  2.85it/s]\u001b[A\n",
      " 50%|█████     | 125/250 [00:44<00:43,  2.86it/s]\u001b[A\n",
      " 50%|█████     | 126/250 [00:45<00:43,  2.88it/s]\u001b[A\n",
      " 51%|█████     | 127/250 [00:45<00:44,  2.77it/s]\u001b[A\n",
      " 51%|█████     | 128/250 [00:45<00:44,  2.76it/s]\u001b[A\n",
      " 52%|█████▏    | 129/250 [00:46<00:43,  2.78it/s]\u001b[A\n",
      " 52%|█████▏    | 130/250 [00:46<00:44,  2.71it/s]\u001b[A\n",
      " 52%|█████▏    | 131/250 [00:46<00:44,  2.67it/s]\u001b[A\n",
      " 53%|█████▎    | 132/250 [00:47<00:44,  2.65it/s]\u001b[A\n",
      " 53%|█████▎    | 133/250 [00:47<00:45,  2.58it/s]\u001b[A\n",
      " 54%|█████▎    | 134/250 [00:48<00:44,  2.59it/s]\u001b[A\n",
      " 54%|█████▍    | 135/250 [00:48<00:44,  2.56it/s]\u001b[A\n",
      " 54%|█████▍    | 136/250 [00:48<00:43,  2.64it/s]\u001b[A\n",
      " 55%|█████▍    | 137/250 [00:49<00:43,  2.57it/s]\u001b[A\n",
      " 55%|█████▌    | 138/250 [00:49<00:43,  2.56it/s]\u001b[A\n",
      " 56%|█████▌    | 139/250 [00:50<00:43,  2.57it/s]\u001b[A\n",
      " 56%|█████▌    | 140/250 [00:50<00:42,  2.57it/s]\u001b[A\n",
      " 56%|█████▋    | 141/250 [00:50<00:42,  2.54it/s]\u001b[A\n",
      " 57%|█████▋    | 142/250 [00:51<00:42,  2.52it/s]\u001b[A\n",
      " 57%|█████▋    | 143/250 [00:51<00:42,  2.52it/s]\u001b[A\n",
      " 58%|█████▊    | 144/250 [00:52<00:42,  2.50it/s]\u001b[A\n",
      " 58%|█████▊    | 145/250 [00:52<00:41,  2.54it/s]\u001b[A\n",
      " 58%|█████▊    | 146/250 [00:52<00:41,  2.52it/s]\u001b[A\n",
      " 59%|█████▉    | 147/250 [00:53<00:41,  2.49it/s]\u001b[A\n",
      " 59%|█████▉    | 148/250 [00:53<00:39,  2.59it/s]\u001b[A\n",
      " 60%|█████▉    | 149/250 [00:54<00:39,  2.54it/s]\u001b[A\n",
      " 60%|██████    | 150/250 [00:54<00:39,  2.53it/s]\u001b[A\n",
      " 60%|██████    | 151/250 [00:54<00:38,  2.59it/s]\u001b[A\n",
      " 61%|██████    | 152/250 [00:55<00:38,  2.52it/s]\u001b[A\n",
      " 61%|██████    | 153/250 [00:55<00:37,  2.61it/s]\u001b[A\n",
      " 62%|██████▏   | 154/250 [00:55<00:36,  2.65it/s]\u001b[A\n",
      " 62%|██████▏   | 155/250 [00:56<00:35,  2.66it/s]\u001b[A\n",
      " 62%|██████▏   | 156/250 [00:56<00:36,  2.59it/s]\u001b[A\n",
      " 63%|██████▎   | 157/250 [00:57<00:35,  2.63it/s]\u001b[A\n",
      " 63%|██████▎   | 158/250 [00:57<00:36,  2.54it/s]\u001b[A\n",
      " 64%|██████▎   | 159/250 [00:57<00:34,  2.62it/s]\u001b[A\n",
      " 64%|██████▍   | 160/250 [00:58<00:34,  2.59it/s]\u001b[A\n",
      " 64%|██████▍   | 161/250 [00:58<00:33,  2.63it/s]\u001b[A\n",
      " 65%|██████▍   | 162/250 [00:59<00:33,  2.61it/s]\u001b[A\n",
      " 65%|██████▌   | 163/250 [00:59<00:32,  2.66it/s]\u001b[A\n",
      " 66%|██████▌   | 164/250 [00:59<00:31,  2.69it/s]\u001b[A\n",
      " 66%|██████▌   | 165/250 [01:00<00:32,  2.59it/s]\u001b[A\n",
      " 66%|██████▋   | 166/250 [01:00<00:32,  2.62it/s]\u001b[A\n",
      " 67%|██████▋   | 167/250 [01:00<00:31,  2.66it/s]\u001b[A\n",
      " 67%|██████▋   | 168/250 [01:01<00:30,  2.69it/s]\u001b[A\n",
      " 68%|██████▊   | 169/250 [01:01<00:29,  2.70it/s]\u001b[A\n",
      " 68%|██████▊   | 170/250 [01:01<00:29,  2.74it/s]\u001b[A\n",
      " 68%|██████▊   | 171/250 [01:02<00:28,  2.76it/s]\u001b[A\n",
      " 69%|██████▉   | 172/250 [01:02<00:28,  2.76it/s]\u001b[A\n",
      " 69%|██████▉   | 173/250 [01:03<00:27,  2.79it/s]\u001b[A\n",
      " 70%|██████▉   | 174/250 [01:03<00:27,  2.81it/s]\u001b[A\n",
      " 70%|███████   | 175/250 [01:03<00:26,  2.83it/s]\u001b[A\n",
      " 70%|███████   | 176/250 [01:04<00:26,  2.85it/s]\u001b[A\n",
      " 71%|███████   | 177/250 [01:04<00:25,  2.86it/s]\u001b[A\n",
      " 71%|███████   | 178/250 [01:04<00:25,  2.87it/s]\u001b[A\n",
      " 72%|███████▏  | 179/250 [01:05<00:24,  2.88it/s]\u001b[A\n",
      " 72%|███████▏  | 180/250 [01:05<00:24,  2.88it/s]\u001b[A\n",
      " 72%|███████▏  | 181/250 [01:05<00:23,  2.88it/s]\u001b[A\n",
      " 73%|███████▎  | 182/250 [01:06<00:23,  2.89it/s]\u001b[A\n",
      " 73%|███████▎  | 183/250 [01:06<00:23,  2.88it/s]\u001b[A\n",
      " 74%|███████▎  | 184/250 [01:06<00:22,  2.89it/s]\u001b[A\n",
      " 74%|███████▍  | 185/250 [01:07<00:22,  2.89it/s]\u001b[A\n",
      " 74%|███████▍  | 186/250 [01:07<00:22,  2.89it/s]\u001b[A\n",
      " 75%|███████▍  | 187/250 [01:07<00:21,  2.90it/s]\u001b[A\n",
      " 75%|███████▌  | 188/250 [01:08<00:21,  2.90it/s]\u001b[A\n",
      " 76%|███████▌  | 189/250 [01:08<00:20,  2.91it/s]\u001b[A\n",
      " 76%|███████▌  | 190/250 [01:08<00:20,  2.90it/s]\u001b[A\n",
      " 76%|███████▋  | 191/250 [01:09<00:20,  2.90it/s]\u001b[A\n",
      " 77%|███████▋  | 192/250 [01:09<00:20,  2.89it/s]\u001b[A\n",
      " 77%|███████▋  | 193/250 [01:09<00:19,  2.87it/s]\u001b[A\n",
      " 78%|███████▊  | 194/250 [01:10<00:19,  2.87it/s]\u001b[A\n",
      " 78%|███████▊  | 195/250 [01:10<00:19,  2.88it/s]\u001b[A\n",
      " 78%|███████▊  | 196/250 [01:10<00:18,  2.89it/s]\u001b[A\n",
      " 79%|███████▉  | 197/250 [01:11<00:18,  2.89it/s]\u001b[A\n",
      " 79%|███████▉  | 198/250 [01:11<00:18,  2.88it/s]\u001b[A\n",
      " 80%|███████▉  | 199/250 [01:12<00:17,  2.89it/s]\u001b[A\n",
      " 80%|████████  | 200/250 [01:12<00:17,  2.88it/s]\u001b[A\n",
      " 80%|████████  | 201/250 [01:12<00:17,  2.88it/s]\u001b[A\n",
      " 81%|████████  | 202/250 [01:13<00:16,  2.88it/s]\u001b[A\n",
      " 81%|████████  | 203/250 [01:13<00:16,  2.88it/s]\u001b[A\n",
      " 82%|████████▏ | 204/250 [01:13<00:16,  2.87it/s]\u001b[A\n",
      " 82%|████████▏ | 205/250 [01:14<00:15,  2.87it/s]\u001b[A\n",
      " 82%|████████▏ | 206/250 [01:14<00:15,  2.87it/s]\u001b[A\n",
      " 83%|████████▎ | 207/250 [01:14<00:14,  2.87it/s]\u001b[A\n",
      " 83%|████████▎ | 208/250 [01:15<00:14,  2.86it/s]\u001b[A\n",
      " 84%|████████▎ | 209/250 [01:15<00:14,  2.87it/s]\u001b[A\n",
      " 84%|████████▍ | 210/250 [01:15<00:13,  2.88it/s]\u001b[A\n",
      " 84%|████████▍ | 211/250 [01:16<00:13,  2.88it/s]\u001b[A\n",
      " 85%|████████▍ | 212/250 [01:16<00:13,  2.88it/s]\u001b[A\n",
      " 85%|████████▌ | 213/250 [01:16<00:12,  2.90it/s]\u001b[A\n",
      " 86%|████████▌ | 214/250 [01:17<00:12,  2.89it/s]\u001b[A\n",
      " 86%|████████▌ | 215/250 [01:17<00:12,  2.89it/s]\u001b[A\n",
      " 86%|████████▋ | 216/250 [01:17<00:11,  2.90it/s]\u001b[A\n",
      " 87%|████████▋ | 217/250 [01:18<00:11,  2.88it/s]\u001b[A\n",
      " 87%|████████▋ | 218/250 [01:18<00:11,  2.88it/s]\u001b[A\n",
      " 88%|████████▊ | 219/250 [01:18<00:10,  2.89it/s]\u001b[A\n",
      " 88%|████████▊ | 220/250 [01:19<00:10,  2.87it/s]\u001b[A\n",
      " 88%|████████▊ | 221/250 [01:19<00:10,  2.87it/s]\u001b[A\n",
      " 89%|████████▉ | 222/250 [01:20<00:09,  2.86it/s]\u001b[A\n",
      " 89%|████████▉ | 223/250 [01:20<00:09,  2.85it/s]\u001b[A\n",
      " 90%|████████▉ | 224/250 [01:20<00:09,  2.87it/s]\u001b[A\n",
      " 90%|█████████ | 225/250 [01:21<00:08,  2.87it/s]\u001b[A\n",
      " 90%|█████████ | 226/250 [01:21<00:08,  2.87it/s]\u001b[A\n",
      " 91%|█████████ | 227/250 [01:21<00:08,  2.87it/s]\u001b[A\n",
      " 91%|█████████ | 228/250 [01:22<00:07,  2.87it/s]\u001b[A\n",
      " 92%|█████████▏| 229/250 [01:22<00:07,  2.88it/s]\u001b[A\n",
      " 92%|█████████▏| 230/250 [01:22<00:06,  2.88it/s]\u001b[A\n",
      " 92%|█████████▏| 231/250 [01:23<00:06,  2.88it/s]\u001b[A\n",
      " 93%|█████████▎| 232/250 [01:23<00:06,  2.88it/s]\u001b[A\n",
      " 93%|█████████▎| 233/250 [01:23<00:05,  2.87it/s]\u001b[A\n",
      " 94%|█████████▎| 234/250 [01:24<00:05,  2.89it/s]\u001b[A\n",
      " 94%|█████████▍| 235/250 [01:24<00:05,  2.68it/s]\u001b[A\n",
      " 94%|█████████▍| 236/250 [01:24<00:05,  2.74it/s]\u001b[A\n",
      " 95%|█████████▍| 237/250 [01:25<00:04,  2.79it/s]\u001b[A\n",
      " 95%|█████████▌| 238/250 [01:25<00:04,  2.79it/s]\u001b[A\n",
      " 96%|█████████▌| 239/250 [01:26<00:03,  2.81it/s]\u001b[A\n",
      " 96%|█████████▌| 240/250 [01:26<00:03,  2.84it/s]\u001b[A\n",
      " 96%|█████████▋| 241/250 [01:26<00:03,  2.86it/s]\u001b[A\n",
      " 97%|█████████▋| 242/250 [01:27<00:02,  2.87it/s]\u001b[A\n",
      " 97%|█████████▋| 243/250 [01:27<00:02,  2.89it/s]\u001b[A\n",
      " 98%|█████████▊| 244/250 [01:27<00:02,  2.88it/s]\u001b[A\n",
      " 98%|█████████▊| 245/250 [01:28<00:01,  2.87it/s]\u001b[A\n",
      " 98%|█████████▊| 246/250 [01:28<00:01,  2.90it/s]\u001b[A\n",
      " 99%|█████████▉| 247/250 [01:28<00:01,  2.89it/s]\u001b[A\n",
      " 99%|█████████▉| 248/250 [01:29<00:00,  2.86it/s]\u001b[A\n",
      "100%|█████████▉| 249/250 [01:29<00:00,  2.78it/s]\u001b[A\n",
      "100%|██████████| 250/250 [01:29<00:00,  2.71it/s]\u001b[A\n",
      "\u001b[A"
     ]
    },
    {
     "data": {
      "text/plain": [
       "-0.13329846"
      ]
     },
     "execution_count": 46,
     "metadata": {},
     "output_type": "execute_result"
    }
   ],
   "source": [
    "measurable_fn()"
   ]
  },
  {
   "cell_type": "code",
   "execution_count": 47,
   "metadata": {
    "collapsed": false
   },
   "outputs": [
    {
     "data": {
      "text/plain": [
       "<matplotlib.figure.Figure at 0x128c15d90>"
      ]
     },
     "metadata": {},
     "output_type": "display_data"
    },
    {
     "data": {
      "text/plain": [
       "<matplotlib.figure.Figure at 0x128c15d90>"
      ]
     },
     "metadata": {},
     "output_type": "display_data"
    },
    {
     "data": {
      "image/png": "[encoded data removed]",
      "text/plain": [
       "<matplotlib.figure.Figure at 0x12a98a050>"
      ]
     },
     "metadata": {},
     "output_type": "display_data"
    }
   ],
   "source": [
    "plot_loss(losses)"
   ]
  },
  {
   "cell_type": "code",
   "execution_count": 12,
   "metadata": {
    "collapsed": true
   },
   "outputs": [],
   "source": [
    "def measurable_fn(lr_g=1e-3,lr_d=1e-3,lr_gan=1e-4,pretrain_epoch=50,training_epoch=250):\n",
    "    generator = build_gen(learning_rate=lr_g)\n",
    "    discriminator = build_dis(learning_rate=lr_d)\n",
    "    gan = build_gan(learning_rate=lr_gan)\n",
    "    pretrain(generator,discriminator,nb_epoch=pretrain_epoch)\n",
    "    batch_training(nb_epoch=training_epoch,plt_freq=10)\n",
    "    return -measure(generator,discriminator)"
   ]
  },
  {
   "cell_type": "code",
   "execution_count": null,
   "metadata": {
    "collapsed": false
   },
   "outputs": [],
   "source": [
    "paramdict={'lr_d':(1e-4,1e-3),'lr_gan':(1e-3,.01)}\n",
    "bo = BayesianOptimization(measurable_fn,paramdict)"
   ]
  },
  {
   "cell_type": "code",
   "execution_count": null,
   "metadata": {
    "collapsed": false
   },
   "outputs": [],
   "source": [
    "bo.maximize(init_points=3,n_iter=47,acq='ei')"
   ]
  },
  {
   "cell_type": "code",
   "execution_count": 48,
   "metadata": {
    "collapsed": false
   },
   "outputs": [],
   "source": [
    "ndata = np.random.randn(train_samples, num_features)\n",
    "p = sum(train[train[:,8] > 0, 8])/len(train)\n",
    "CONT = np.random.choice([-1,1], train_samples, p = [1-p,p])\n",
    "fdata = np.concatenate((ndata,CONT[:,None]), axis=1)\n",
    "samples = generator.predict(fdata)\n",
    "unnormalized=np.zeros(samples.shape)\n",
    "for x in range(samples.shape[1]-2):\n",
    "    unnormalized[:,x] = np.add(np.multiply(samples[:,x],stds[x]),means[x])\n",
    "unnormalized[:,8] = samples[:,8]"
   ]
  },
  {
   "cell_type": "code",
   "execution_count": 52,
   "metadata": {
    "collapsed": false
   },
   "outputs": [
    {
     "data": {
      "text/plain": [
       "array([ 5.74729395,  5.84382534,  5.4915967 , ...,  7.42720556,\n",
       "        4.07185364,  5.43231869], dtype=float32)"
      ]
     },
     "execution_count": 52,
     "metadata": {},
     "output_type": "execute_result"
    }
   ],
   "source": []
  },
  {
   "cell_type": "code",
   "execution_count": null,
   "metadata": {
    "collapsed": false
   },
   "outputs": [],
   "source": []
  },
  {
   "cell_type": "code",
   "execution_count": null,
   "metadata": {
    "collapsed": false
   },
   "outputs": [],
   "source": [
    "data_un = pd.read_csv('final_data.csv')\n",
    "# Convert labels\n",
    "data_un.loc[data_un.CONT == \"NO\",\"CONT\"] = -1\n",
    "data_un.loc[data_un.CONT != -1,\"CONT\"] = 1\n",
    "# Subset columns\n",
    "cols = [\"BUN\",\"CA\",\"CL\",\"CO2\",\"CRET\",\"GLU\",\"K\",\"NA.\",\"CONT\"]\n",
    "data_un = data_un[cols]\n",
    "# Banish negativity :)\n",
    "data_un.loc[data_un.CA < 0,\"CA\"] = 0\n",
    "# Convert to int.  Could save space with binary, but meh...\n",
    "data_un.CONT = data_un.CONT.astype(\"int64\")\n",
    "# Drop NAs\n",
    "data_un = data_un.dropna()\n",
    "# To numpy, Batman!\n",
    "data_un = data_un.as_matrix()\n",
    "print means\n",
    "print unnormalized[1000]"
   ]
  },
  {
   "cell_type": "code",
   "execution_count": null,
   "metadata": {
    "collapsed": false
   },
   "outputs": [],
   "source": [
    "unnormalized[unnormalized[:,-1]>.4].shape"
   ]
  },
  {
   "cell_type": "code",
   "execution_count": null,
   "metadata": {
    "collapsed": false
   },
   "outputs": [],
   "source": [
    "CONT[CONT>0].shape"
   ]
  },
  {
   "cell_type": "code",
   "execution_count": null,
   "metadata": {
    "collapsed": true
   },
   "outputs": [],
   "source": []
  }
 ],
 "metadata": {
  "kernelspec": {
   "display_name": "Python 2",
   "language": "python",
   "name": "python2"
  },
  "language_info": {
   "codemirror_mode": {
    "name": "ipython",
    "version": 2
   },
   "file_extension": ".py",
   "mimetype": "text/x-python",
   "name": "python",
   "nbconvert_exporter": "python",
   "pygments_lexer": "ipython2",
   "version": "2.7.11"
  }
 },
 "nbformat": 4,
 "nbformat_minor": 0
}
