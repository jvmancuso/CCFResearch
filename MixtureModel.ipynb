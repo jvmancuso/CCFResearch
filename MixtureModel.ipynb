{
 "cells": [
  {
   "cell_type": "code",
   "execution_count": 1,
   "metadata": {
    "collapsed": true
   },
   "outputs": [],
   "source": [
    "import numpy as np\n",
    "import pandas as pd\n",
    "from bayes_opt import BayesianOptimization\n",
    "from sklearn.mixture import *\n",
    "import time\n",
    "import tqdm"
   ]
  },
  {
   "cell_type": "code",
   "execution_count": 2,
   "metadata": {
    "collapsed": false
   },
   "outputs": [],
   "source": [
    "data = pd.read_csv('final_data.csv')\n",
    "# Convert labels\n",
    "data.loc[data.CONT == \"NO\",\"CONT\"] = -1\n",
    "data.loc[data.CONT != -1,\"CONT\"] = 1\n",
    "# Subset columns\n",
    "cols = [\"BUN\",\"CA\",\"CL\",\"CO2\",\"CRET\",\"GLU\",\"K\",\"NA.\",\"CONT\"]\n",
    "data = data[cols]\n",
    "# Banish negativity :)\n",
    "data.loc[data.CA < 0,\"CA\"] = 0\n",
    "# Convert to int.  Could save space with binary, but meh...\n",
    "data.CONT = data.CONT.astype(\"int64\")\n",
    "# Drop NAs\n",
    "data = data.dropna()\n",
    "# To numpy, Batman!\n",
    "data = data.as_matrix()"
   ]
  },
  {
   "cell_type": "code",
   "execution_count": 3,
   "metadata": {
    "collapsed": false
   },
   "outputs": [],
   "source": [
    "def GMValidation(n_components = 1, inputs = data):\n",
    "    gm = GaussianMixture(n_components = int(n_components), random_state = 4321)\n",
    "    gm.fit(data)\n",
    "    return -gm.aic(data)"
   ]
  },
  {
   "cell_type": "code",
   "execution_count": 4,
   "metadata": {
    "collapsed": false
   },
   "outputs": [],
   "source": [
    "#params = {'n_components':(5000,10000)}\n",
    "#BO = BayesianOptimization(GMValidation,params)\n",
    "#BO.maximize(init_points = 5, n_iter = 50)"
   ]
  },
  {
   "cell_type": "code",
   "execution_count": 5,
   "metadata": {
    "collapsed": false
   },
   "outputs": [],
   "source": [
    "#BO.res['max']"
   ]
  },
  {
   "cell_type": "code",
   "execution_count": 6,
   "metadata": {
    "collapsed": false
   },
   "outputs": [
    {
     "name": "stdout",
     "output_type": "stream",
     "text": [
      "-37325.7970236\n",
      "Time: 145.632452965\n"
     ]
    }
   ],
   "source": [
    "time0=time.time()\n",
    "gm = GaussianMixture(n_components=7318,random_state=4321)\n",
    "gm.fit(data)\n",
    "print gm.aic(data)\n",
    "print \"Time: \"+str(time.time()-time0)"
   ]
  },
  {
   "cell_type": "code",
   "execution_count": 7,
   "metadata": {
    "collapsed": false
   },
   "outputs": [],
   "source": [
    "final = gm.sample(200000000)"
   ]
  },
  {
   "cell_type": "code",
   "execution_count": 8,
   "metadata": {
    "collapsed": false
   },
   "outputs": [],
   "source": [
    "final = np.concatenate((data,final[0]))"
   ]
  },
  {
   "cell_type": "code",
   "execution_count": 9,
   "metadata": {
    "collapsed": false
   },
   "outputs": [],
   "source": [
    "np.save(\"generated_data.npy\",final)"
   ]
  }
 ],
 "metadata": {
  "kernelspec": {
   "display_name": "Python 2",
   "language": "python",
   "name": "python2"
  },
  "language_info": {
   "codemirror_mode": {
    "name": "ipython",
    "version": 2
   },
   "file_extension": ".py",
   "mimetype": "text/x-python",
   "name": "python",
   "nbconvert_exporter": "python",
   "pygments_lexer": "ipython2",
   "version": "2.7.11"
  }
 },
 "nbformat": 4,
 "nbformat_minor": 0
}
